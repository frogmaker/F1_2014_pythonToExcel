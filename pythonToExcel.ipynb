{
 "cells": [
  {
   "cell_type": "markdown",
   "id": "f4eec6f6",
   "metadata": {},
   "source": [
    "# Autor: Frogmaker"
   ]
  },
  {
   "cell_type": "markdown",
   "id": "31b2e382",
   "metadata": {},
   "source": [
    "**Inicjaca bibliotek i pliku źródłowego**"
   ]
  },
  {
   "cell_type": "code",
   "execution_count": 1,
   "id": "30f86dce",
   "metadata": {},
   "outputs": [],
   "source": [
    "from openpyxl import load_workbook\n",
    "from openpyxl import Workbook"
   ]
  },
  {
   "cell_type": "code",
   "execution_count": 2,
   "id": "c2a159a9",
   "metadata": {},
   "outputs": [],
   "source": [
    "wb = load_workbook('exercises/data/f1-results.xlsx')"
   ]
  },
  {
   "cell_type": "markdown",
   "id": "e19c1a63",
   "metadata": {},
   "source": [
    "**Zadanie 1:** Przygotuj arkusz o nazwie *Standings*, który będzie zawierał sumaryczną liczbę punktów zawodników po każdym wyścigu. \n",
    "    \n",
    "Arkusz powinien zawierać tabelą jak poniżej:\n",
    "\n",
    "|                  | Australia | China | ... |\n",
    "|------------------|-----------|-------|-----|\n",
    "| Lewis Hamilton   | 18        | 43    | ... |\n",
    "| Sebastian Vettel | 25        | 43    | ... |\n",
    "| ...              |           |       |     |\n",
    "\n",
    "**Zadanie 2:** Na podstawie powyższej tabeli, w arkuszu *Standings* umieść wykres liniowy (`LineChart`), który zaprezentuje sumaryczną liczbę punktów po kolejnych wyścigach. Na osi X powinny być nazwy wyścigów, na osi Y liczba punktów, a serie reprezentują poszczególnych kierowców. "
   ]
  },
  {
   "cell_type": "markdown",
   "id": "75e7ac89",
   "metadata": {},
   "source": [
    "## Zadanie 1\n",
    "**Kod pobierający nazwy arkuszy**"
   ]
  },
  {
   "cell_type": "code",
   "execution_count": 3,
   "id": "4e4a54e8",
   "metadata": {},
   "outputs": [],
   "source": [
    "sheetnames = wb.sheetnames"
   ]
  },
  {
   "cell_type": "markdown",
   "id": "820140e6",
   "metadata": {},
   "source": [
    "**Kod punktacji i sortowania zawodników**"
   ]
  },
  {
   "cell_type": "code",
   "execution_count": 4,
   "id": "f1c85583",
   "metadata": {},
   "outputs": [],
   "source": [
    "rank = {}\n",
    "for ws in wb:\n",
    "    for row in ws.iter_rows():\n",
    "        driver = row[2].value\n",
    "        current_points = int(row[5].value)\n",
    "        if driver in rank:\n",
    "            rank[driver] += current_points\n",
    "        else:\n",
    "            rank[driver] = current_points\n",
    "            \n",
    "\n",
    "sorted_rank = sorted(rank.items(), key=lambda x:x[1], reverse = True)            "
   ]
  },
  {
   "cell_type": "markdown",
   "id": "425cc917",
   "metadata": {},
   "source": [
    "**Utworzenie nowego arkusza w nowym pliku:**"
   ]
  },
  {
   "cell_type": "code",
   "execution_count": 5,
   "id": "6af2396d",
   "metadata": {},
   "outputs": [],
   "source": [
    "new_wb = Workbook()\n",
    "new_ws = new_wb.active\n",
    "new_ws.title = \"Standings\""
   ]
  },
  {
   "cell_type": "markdown",
   "id": "31702730",
   "metadata": {},
   "source": [
    "**Utworzenie ramki danych (lista kierowców, lista wyścigów)**"
   ]
  },
  {
   "cell_type": "code",
   "execution_count": 6,
   "id": "3c6a3bfe",
   "metadata": {},
   "outputs": [],
   "source": [
    "new_wb.active = new_wb['Standings']\n",
    "\n",
    "new_ws = new_wb.active\n",
    "\n",
    "#wypełnienie nagłówków kolumn miejscami wyścigów\n",
    "\n",
    "for i in range(len(sheetnames)):\n",
    "    new_ws.cell(row=1, column=i+2).value = sheetnames[i]\n",
    "\n",
    "#wypełnienie pierwszej kolumny nazwiskami kierowców w odpowiedniej kolejności\n",
    "\n",
    "for i in range(len(sorted_rank)):\n",
    "    new_ws.cell(row = 2+i, column=1).value = sorted_rank[i][0][:-3]"
   ]
  },
  {
   "cell_type": "markdown",
   "id": "a5701790",
   "metadata": {},
   "source": [
    "**Uzupełnienie tabeli danymi**"
   ]
  },
  {
   "cell_type": "code",
   "execution_count": 7,
   "id": "68e5d587",
   "metadata": {},
   "outputs": [],
   "source": [
    "#wypełnienie poszczególnych komórek wynikami kierowców pojedyńczych wyścigów\n",
    "\n",
    "for col in  range(len(sheetnames)):\n",
    "    for row in range(len(sorted_rank)):\n",
    "        new_ws.cell(row  = row + 2, column = col + 2).value = 0 #pozbysie się komórek NaN\n",
    "        ws.active = wb[new_ws.cell(row = 1, column = col+2).value]\n",
    "        for cell in ws.active.iter_rows():            \n",
    "            driver = cell[2].value[:-3]\n",
    "            if driver == new_ws.cell(row = row+2,column = 1).value:        \n",
    "                new_ws.cell(row  = row + 2, column = col + 2).value = int(cell[5].value)            \n",
    "                \n",
    "#sumowanie kolumn\n",
    "\n",
    "for row in range(len(sorted_rank)):\n",
    "    for col in  range(len(sheetnames)-1):        \n",
    "        new_ws.cell(row = row+2, column = col +3).value += int(new_ws.cell(row = row+2, column = col +2).value)"
   ]
  },
  {
   "cell_type": "markdown",
   "id": "d5869052",
   "metadata": {},
   "source": [
    "**Zapisanie nowego pliku z danymi**"
   ]
  },
  {
   "cell_type": "code",
   "execution_count": 8,
   "id": "bf2a2f73",
   "metadata": {},
   "outputs": [],
   "source": [
    "new_wb.save('./exercises/data/standings.xlsx')"
   ]
  },
  {
   "cell_type": "markdown",
   "id": "bd8ffb2c",
   "metadata": {},
   "source": [
    "**Otwarcie pliku w celu sprawdzenia otrzymanego wyniku**"
   ]
  },
  {
   "cell_type": "code",
   "execution_count": null,
   "id": "10d60cf5",
   "metadata": {},
   "outputs": [],
   "source": [
    "import os\n",
    "os.system(\"start EXCEL.EXE  exercises/data/standings.xlsx\")"
   ]
  },
  {
   "cell_type": "markdown",
   "id": "d723228c",
   "metadata": {},
   "source": [
    "## Zadanie 2"
   ]
  },
  {
   "cell_type": "markdown",
   "id": "098d872b",
   "metadata": {},
   "source": [
    "**Import bibliotek potrzebnych do narysowania wykresu**"
   ]
  },
  {
   "cell_type": "code",
   "execution_count": 9,
   "id": "3f1f081f",
   "metadata": {},
   "outputs": [],
   "source": [
    "from openpyxl import Workbook, load_workbook\n",
    "from openpyxl.chart import (\n",
    "    LineChart,\n",
    "    Reference,\n",
    "    Series\n",
    ")\n",
    "from openpyxl.chart.axis import DateAxis"
   ]
  },
  {
   "cell_type": "markdown",
   "id": "b27fd1c9",
   "metadata": {},
   "source": [
    "**Zdefiniowanie słownika przypisującego kierowcom numer wiersza**"
   ]
  },
  {
   "cell_type": "code",
   "execution_count": 10,
   "id": "4bb867f1",
   "metadata": {},
   "outputs": [],
   "source": [
    "drivers = {}\n",
    "i = 2\n",
    "for item in sorted_rank:\n",
    "    drivers[item[0][:-3]] = i\n",
    "    i = i+1"
   ]
  },
  {
   "cell_type": "markdown",
   "id": "a9ce21ee",
   "metadata": {},
   "source": [
    "**Rysowanie wykresu**"
   ]
  },
  {
   "cell_type": "code",
   "execution_count": 11,
   "id": "d2cb8a8a",
   "metadata": {},
   "outputs": [],
   "source": [
    "wb = load_workbook(\"./exercises/data/standings.xlsx\")\n",
    "ws = wb[\"Standings\"]\n",
    "\n",
    "LC = LineChart()\n",
    "LC.title = \"F1_seasone2014\"\n",
    "#LC.style = 13\n",
    "LC.y_axis.title = 'Points'\n",
    "LC.x_axis.title = 'Race'\n",
    "\n",
    "for item in drivers:    \n",
    "    data = Reference(ws, min_col=2, min_row=drivers[item], max_col=21, max_row=drivers[item])\n",
    "    serie = Series(data, title=item)\n",
    "    LC.append(serie)\n",
    "\n",
    "data = Reference(ws, min_col=2, min_row=1, max_col=21, max_row=1)\n",
    "LC.set_categories(data)\n",
    "\n",
    "ws.add_chart(LC, \"W2\")\n"
   ]
  },
  {
   "cell_type": "code",
   "execution_count": 12,
   "id": "86e181f2",
   "metadata": {},
   "outputs": [],
   "source": [
    "# zapis pliku\n",
    "wb.save(\"./exercises/data/standings.xlsx\")"
   ]
  },
  {
   "cell_type": "code",
   "execution_count": 13,
   "id": "e8f229f6",
   "metadata": {},
   "outputs": [
    {
     "data": {
      "text/plain": [
       "0"
      ]
     },
     "execution_count": 13,
     "metadata": {},
     "output_type": "execute_result"
    }
   ],
   "source": [
    "# otwarcie pliku\n",
    "import os\n",
    "os.system(\"start EXCEL.EXE  exercises/data/standings.xlsx\")"
   ]
  },
  {
   "cell_type": "markdown",
   "id": "d7d69d42",
   "metadata": {},
   "source": [
    "# Koniec zadania"
   ]
  },
  {
   "cell_type": "code",
   "execution_count": null,
   "id": "74b19c41",
   "metadata": {},
   "outputs": [],
   "source": []
  }
 ],
 "metadata": {
  "kernelspec": {
   "display_name": "Python 3 (ipykernel)",
   "language": "python",
   "name": "python3"
  },
  "language_info": {
   "codemirror_mode": {
    "name": "ipython",
    "version": 3
   },
   "file_extension": ".py",
   "mimetype": "text/x-python",
   "name": "python",
   "nbconvert_exporter": "python",
   "pygments_lexer": "ipython3",
   "version": "3.11.5"
  }
 },
 "nbformat": 4,
 "nbformat_minor": 5
}
